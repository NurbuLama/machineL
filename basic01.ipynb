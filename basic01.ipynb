{
  "nbformat": 4,
  "nbformat_minor": 0,
  "metadata": {
    "colab": {
      "name": "basic01.ipynb",
      "provenance": [],
      "authorship_tag": "ABX9TyPrJ00UmdPBd1tdMWXc/PkA",
      "include_colab_link": true
    },
    "kernelspec": {
      "name": "python3",
      "display_name": "Python 3"
    }
  },
  "cells": [
    {
      "cell_type": "markdown",
      "metadata": {
        "id": "view-in-github",
        "colab_type": "text"
      },
      "source": [
        "<a href=\"https://colab.research.google.com/github/NurbuLama/machineL/blob/master/basic01.ipynb\" target=\"_parent\"><img src=\"https://colab.research.google.com/assets/colab-badge.svg\" alt=\"Open In Colab\"/></a>"
      ]
    },
    {
      "cell_type": "markdown",
      "metadata": {
        "id": "nld58rFWMRxk"
      },
      "source": [
        "Create five variables"
      ]
    },
    {
      "cell_type": "code",
      "metadata": {
        "id": "P1Oxo8NTYVk5"
      },
      "source": [
        "import math"
      ],
      "execution_count": null,
      "outputs": []
    },
    {
      "cell_type": "code",
      "metadata": {
        "id": "KH480mfMM25Q"
      },
      "source": [
        "first_name=\"Nurbu\"\n",
        "firstName=\"Alex\"\n",
        "FirstName=\"Albon\"\n",
        "FIRSTNAME=\"Carlos\""
      ],
      "execution_count": null,
      "outputs": []
    },
    {
      "cell_type": "code",
      "metadata": {
        "colab": {
          "base_uri": "https://localhost:8080/"
        },
        "id": "cZh5GLwkNMoA",
        "outputId": "986b8f54-3846-4cb2-aa45-eb7f7ba1bf62"
      },
      "source": [
        "print(first_name)\n",
        "print ()"
      ],
      "execution_count": 3,
      "outputs": [
        {
          "output_type": "stream",
          "text": [
            "Nurbu\n"
          ],
          "name": "stdout"
        }
      ]
    },
    {
      "cell_type": "markdown",
      "metadata": {
        "id": "wzf0C2tPNyHE"
      },
      "source": [
        "Create 10 Last Name Variables"
      ]
    },
    {
      "cell_type": "code",
      "metadata": {
        "id": "9TtwJHAMN2IG"
      },
      "source": [
        "last_Name1=\"lama\"\n",
        "last_Name2=\"lama2\"\n",
        "last_Name3=\"lama3\"\n",
        "last_Name4=\"lama4\"\n",
        "last_Name5=\"lama5\"\n",
        "last_Name6=\"lama6\"\n",
        "last_Name7=\"lama7\"\n",
        "last_Name8=\"lama8\"\n",
        "last_Name9=\"lama9\"\n",
        "last_Name10=\"lama10\""
      ],
      "execution_count": 12,
      "outputs": []
    },
    {
      "cell_type": "code",
      "metadata": {
        "colab": {
          "base_uri": "https://localhost:8080/"
        },
        "id": "S3uMK067OiPd",
        "outputId": "3052ccb0-f24f-4b1f-9f09-39fef085e32b"
      },
      "source": [
        "print(last_Name1)\n",
        "print(last_Name2)\n",
        "print(last_Name3)\n",
        "print(last_Name4)\n",
        "print(last_Name5)\n",
        "print(last_Name6)\n",
        "print(last_Name7)\n",
        "print(last_Name8)\n",
        "print(last_Name9)\n",
        "print(last_Name10)"
      ],
      "execution_count": 13,
      "outputs": [
        {
          "output_type": "stream",
          "text": [
            "lama\n",
            "lama2\n",
            "lama3\n",
            "lama4\n",
            "lama5\n",
            "lama6\n",
            "lama7\n",
            "lama8\n",
            "lama9\n",
            "lama10\n"
          ],
          "name": "stdout"
        }
      ]
    },
    {
      "cell_type": "markdown",
      "metadata": {
        "id": "ku1RNVsDX32o"
      },
      "source": [
        "Data Type"
      ]
    },
    {
      "cell_type": "code",
      "metadata": {
        "id": "VM3Y8KvfX-gI"
      },
      "source": [
        "num=12.901212"
      ],
      "execution_count": 16,
      "outputs": []
    },
    {
      "cell_type": "code",
      "metadata": {
        "colab": {
          "base_uri": "https://localhost:8080/"
        },
        "id": "que84ZZkYO42",
        "outputId": "05a6d93e-adac-4cb2-d605-efb64f967da9"
      },
      "source": [
        "num"
      ],
      "execution_count": 23,
      "outputs": [
        {
          "output_type": "execute_result",
          "data": {
            "text/plain": [
              "12.901212"
            ]
          },
          "metadata": {
            "tags": []
          },
          "execution_count": 23
        }
      ]
    },
    {
      "cell_type": "code",
      "metadata": {
        "id": "KOr45Vg-Y0_c"
      },
      "source": [
        "game= True"
      ],
      "execution_count": 24,
      "outputs": []
    },
    {
      "cell_type": "code",
      "metadata": {
        "colab": {
          "base_uri": "https://localhost:8080/"
        },
        "id": "0rGwHCkVY6hi",
        "outputId": "bfe022b2-849d-4b45-a431-d45963a66ea6"
      },
      "source": [
        "type(num)"
      ],
      "execution_count": 25,
      "outputs": [
        {
          "output_type": "execute_result",
          "data": {
            "text/plain": [
              "float"
            ]
          },
          "metadata": {
            "tags": []
          },
          "execution_count": 25
        }
      ]
    },
    {
      "cell_type": "code",
      "metadata": {
        "colab": {
          "base_uri": "https://localhost:8080/"
        },
        "id": "WsqvW6dqZA3Z",
        "outputId": "e4b95715-79ce-4588-f5db-c7f102d99fb9"
      },
      "source": [
        "type(game)"
      ],
      "execution_count": 26,
      "outputs": [
        {
          "output_type": "execute_result",
          "data": {
            "text/plain": [
              "bool"
            ]
          },
          "metadata": {
            "tags": []
          },
          "execution_count": 26
        }
      ]
    },
    {
      "cell_type": "code",
      "metadata": {
        "id": "LzchY89FZOAV"
      },
      "source": [
        "list= [\"name\",\"time\",\"carrots\"]"
      ],
      "execution_count": 27,
      "outputs": []
    },
    {
      "cell_type": "code",
      "metadata": {
        "colab": {
          "base_uri": "https://localhost:8080/"
        },
        "id": "KVsi0F1bZcFc",
        "outputId": "864241e6-4a0b-44cb-a746-33472641483b"
      },
      "source": [
        "list"
      ],
      "execution_count": 28,
      "outputs": [
        {
          "output_type": "execute_result",
          "data": {
            "text/plain": [
              "['name', 'time', 'carrots']"
            ]
          },
          "metadata": {
            "tags": []
          },
          "execution_count": 28
        }
      ]
    },
    {
      "cell_type": "markdown",
      "metadata": {
        "id": "dvgtZDyQZi3Y"
      },
      "source": [
        "Create 10 Lists,10 Bool and 10 Floats"
      ]
    },
    {
      "cell_type": "code",
      "metadata": {
        "id": "fvGPbtrIZtco"
      },
      "source": [
        "list1=[\"A\", \"B\",\"c\"]\n",
        "list2=[1,2,3]\n",
        "list3=[\"a\",\"b\",\"c\"]\n",
        "list4=[4,5,6]\n",
        "list5=[7,8.9]\n",
        "list6=[\"x\",\"y\",\"z\"]"
      ],
      "execution_count": 30,
      "outputs": []
    },
    {
      "cell_type": "code",
      "metadata": {
        "colab": {
          "base_uri": "https://localhost:8080/"
        },
        "id": "EKE30aJfaqLL",
        "outputId": "a0b015fd-e5c7-4872-94a1-013696ef9e5e"
      },
      "source": [
        "list1"
      ],
      "execution_count": 34,
      "outputs": [
        {
          "output_type": "execute_result",
          "data": {
            "text/plain": [
              "['A', 'B', 'c']"
            ]
          },
          "metadata": {
            "tags": []
          },
          "execution_count": 34
        }
      ]
    },
    {
      "cell_type": "code",
      "metadata": {
        "id": "1sqPdapXa3gi"
      },
      "source": [
        "light= True\n",
        "game2= True\n",
        "Grade= False"
      ],
      "execution_count": 36,
      "outputs": []
    },
    {
      "cell_type": "code",
      "metadata": {
        "colab": {
          "base_uri": "https://localhost:8080/"
        },
        "id": "vk8wfhSGbdy2",
        "outputId": "430758cc-75e5-4701-883d-e5c8598fa3ad"
      },
      "source": [
        "type(Grade)"
      ],
      "execution_count": 37,
      "outputs": [
        {
          "output_type": "execute_result",
          "data": {
            "text/plain": [
              "bool"
            ]
          },
          "metadata": {
            "tags": []
          },
          "execution_count": 37
        }
      ]
    },
    {
      "cell_type": "code",
      "metadata": {
        "colab": {
          "base_uri": "https://localhost:8080/"
        },
        "id": "UlWTXt1wbff2",
        "outputId": "9420d3e8-39ff-476d-dfd4-664c505051d3"
      },
      "source": [
        "type(light)"
      ],
      "execution_count": 38,
      "outputs": [
        {
          "output_type": "execute_result",
          "data": {
            "text/plain": [
              "bool"
            ]
          },
          "metadata": {
            "tags": []
          },
          "execution_count": 38
        }
      ]
    },
    {
      "cell_type": "code",
      "metadata": {
        "id": "y2MkhaoIbh70"
      },
      "source": [
        "num1=1.012345\n",
        "num2=2.012345\n",
        "num3=3.012345\n",
        "num4=4.012345\n",
        "num5=5.012345"
      ],
      "execution_count": 39,
      "outputs": []
    },
    {
      "cell_type": "code",
      "metadata": {
        "colab": {
          "base_uri": "https://localhost:8080/"
        },
        "id": "qyi5yYwabz7h",
        "outputId": "eed9dbdb-f941-4f79-ee16-ae48c773d7a4"
      },
      "source": [
        "num1"
      ],
      "execution_count": 42,
      "outputs": [
        {
          "output_type": "execute_result",
          "data": {
            "text/plain": [
              "1.012345"
            ]
          },
          "metadata": {
            "tags": []
          },
          "execution_count": 42
        }
      ]
    },
    {
      "cell_type": "code",
      "metadata": {
        "id": "FQ5GqUAgb7AJ"
      },
      "source": [
        ""
      ],
      "execution_count": null,
      "outputs": []
    }
  ]
}